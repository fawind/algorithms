{
 "cells": [
  {
   "cell_type": "markdown",
   "metadata": {},
   "source": [
    "# Graph Search and Topological Sort"
   ]
  },
  {
   "cell_type": "code",
   "execution_count": 1,
   "metadata": {
    "collapsed": true
   },
   "outputs": [],
   "source": [
    "class Vertex:    \n",
    "    def __init__(self, value, children=[]):\n",
    "        self.value = value\n",
    "        self.children = set(children)\n",
    "        \n",
    "t = Vertex('t', [])\n",
    "v = Vertex('v', [t])\n",
    "w = Vertex('w', [t])\n",
    "s = Vertex('s', [v, w])\n",
    "graph = [s, w, v, t]"
   ]
  },
  {
   "cell_type": "markdown",
   "metadata": {},
   "source": [
    "## BFS and DFS"
   ]
  },
  {
   "cell_type": "code",
   "execution_count": 2,
   "metadata": {
    "collapsed": false
   },
   "outputs": [
    {
     "name": "stdout",
     "output_type": "stream",
     "text": [
      "Visit: s\n",
      "Visit: v\n",
      "Visit: w\n",
      "Visit: t\n"
     ]
    }
   ],
   "source": [
    "def bfs(start):\n",
    "    visited = set()\n",
    "    queue = [start]\n",
    "    while queue:\n",
    "        vertex = queue.pop(0)\n",
    "        if vertex.value not in visited:\n",
    "            print('Visit: {}'.format(vertex.value))\n",
    "            visited.add(vertex.value)\n",
    "            queue.extend(vertex.children - visited)\n",
    "\n",
    "bfs(graph[0])"
   ]
  },
  {
   "cell_type": "code",
   "execution_count": 3,
   "metadata": {
    "collapsed": false
   },
   "outputs": [
    {
     "name": "stdout",
     "output_type": "stream",
     "text": [
      "Visit: s\n",
      "Visit: w\n",
      "Visit: t\n",
      "Visit: v\n"
     ]
    }
   ],
   "source": [
    "def dfs(start):\n",
    "    visited = set()\n",
    "    stack = [start]\n",
    "    while stack:\n",
    "        vertex = stack.pop()\n",
    "        if vertex.value not in visited:\n",
    "            print('Visit: {}'.format(vertex.value))\n",
    "            visited.add(vertex.value)\n",
    "            stack.extend(vertex.children - visited)\n",
    "\n",
    "dfs(graph[0])"
   ]
  },
  {
   "cell_type": "markdown",
   "metadata": {},
   "source": [
    "## Topological Sort\n",
    "\n",
    "**Goal:** Labeling $f$ of $G$'s nodes such that:\n",
    "1. The $f(v)$'s are the set ${1, 2, ..., n}$\n",
    "2. $(u, v) \\in G \\Rightarrow f(u) < f(v)$\n",
    "\n",
    "**Motivation:** Create sequence of tasks while respecting dependencies.\n",
    "\n",
    "**Note:** No directed cycle => can compute topological ordering in $O(m + n)$\n",
    "\n",
    "### 1) Straighforward Algorithm\n",
    "\n",
    "**Note:** Every directed acyclic graph has a sink vertex\n",
    "\n",
    "```\n",
    "1) Let v be a sink vertex of G\n",
    "2) Set f(v) = n\n",
    "3) Recurse on G - {v}\n",
    "```\n",
    "\n",
    "### 2) TopoSort using DFS"
   ]
  },
  {
   "cell_type": "code",
   "execution_count": 4,
   "metadata": {
    "collapsed": false
   },
   "outputs": [
    {
     "data": {
      "text/plain": [
       "['s', 'w', 'v', 't']"
      ]
     },
     "execution_count": 4,
     "metadata": {},
     "output_type": "execute_result"
    }
   ],
   "source": [
    "def dfsTopo(vertex, visited, stack):\n",
    "    visited.add(vertex.value)\n",
    "    for c in vertex.children:\n",
    "        if c.value not in visited:\n",
    "            dfsTopo(c, visited, stack)\n",
    "    stack.insert(0, vertex.value)\n",
    "\n",
    "def toposort(graph):\n",
    "    visited = set()\n",
    "    stack = []\n",
    "    for v in graph:\n",
    "        if v.value not in visited:\n",
    "            dfsTopo(v, visited, stack)\n",
    "    return stack\n",
    "\n",
    "toposort(graph)"
   ]
  },
  {
   "cell_type": "markdown",
   "metadata": {},
   "source": [
    "## Strongly Connected Components\n",
    "\n",
    "**Kosaraju's Two Pass Alrotithm:**\n",
    "```\n",
    "1. Let G^rev = G with reverted edges\n",
    "2. Run dfs_loop on G^rev\n",
    "    * Let f(v) = \"finish time\"\n",
    "3. Run dfs_loop on G\n",
    "    * Processing nodes in order of decr finish time\n",
    "4. SCCs = nodes with same \"leader\" node\n",
    "```"
   ]
  },
  {
   "cell_type": "code",
   "execution_count": 6,
   "metadata": {
    "collapsed": false
   },
   "outputs": [
    {
     "data": {
      "text/plain": [
       "{'a': 'a', 'b': 'c', 'c': 'c', 'd': 'c'}"
      ]
     },
     "execution_count": 6,
     "metadata": {},
     "output_type": "execute_result"
    }
   ],
   "source": [
    "def scc(graph, graph_rev):\n",
    "    global leader, finish\n",
    "    leader = {} # Map node to leader\n",
    "    finish = {} # Map node to finish order\n",
    "    # Pass 1 - Compute finish order\n",
    "    scc_dfs_loop(graph_rev.values())\n",
    "    # Order graph by finish time\n",
    "    graph_order = sorted(finish, key=finish.get, reverse=True)\n",
    "    graph_ordered = [graph[x] for x in graph_order]\n",
    "    # Pass 2 - Compute leader\n",
    "    scc_dfs_loop(graph_ordered)\n",
    "    # All nodes with same leader are a SCC\n",
    "    return leader\n",
    "    \n",
    "def scc_dfs_loop(graph):\n",
    "    global num_processed, source_vertex, visited\n",
    "    num_processed = 0\n",
    "    source_vertex = None\n",
    "    visited = set()\n",
    "    for node in graph:\n",
    "        if node.value not in visited:\n",
    "            source_vertex = node.value\n",
    "            scc_dfs(node)\n",
    "            \n",
    "def scc_dfs(node):\n",
    "    global num_processed\n",
    "    visited.add(node.value)\n",
    "    leader[node.value] = source_vertex\n",
    "    for c in node.children:\n",
    "        if c.value not in visited:\n",
    "            scc_dfs(c)\n",
    "    num_processed += 1\n",
    "    finish[node.value] = num_processed\n",
    "\n",
    "def _get_graph():\n",
    "    d = Vertex('d', []) # [b]\n",
    "    c = Vertex('c', [d])\n",
    "    b = Vertex('b', [c])\n",
    "    a = Vertex('a', [b, c])\n",
    "    d.children = [b]\n",
    "    graph = {'a': a, 'b': b, 'c': c, 'd': d}\n",
    "    a_rev = Vertex('a', [])\n",
    "    d_rev = Vertex('d', []) # [c_rev]\n",
    "    b_rev = Vertex('b', [a_rev, d_rev])\n",
    "    c_rev = Vertex('c', [a_rev, b_rev])\n",
    "    d_children = [c_rev]\n",
    "    graph_rev = {'a': a_rev, 'b': b_rev, 'c': c_rev, 'd': d_rev}\n",
    "    return graph, graph_rev\n",
    "\n",
    "graph, graph_rev = _get_graph()\n",
    "scc(graph, graph_rev)"
   ]
  },
  {
   "cell_type": "markdown",
   "metadata": {},
   "source": [
    "### Lemma\n",
    "\n",
    "* Consider two \"adjacent\" SCCsin G (C_1 -> C_2).\n",
    "* Let f(v) = finishing times of DFS_Loop\n",
    "\n",
    "**Then:** $max(f(v \\in C_1)) < max(f(v \\in C_2))$\n",
    "\n",
    "**Corollary:** Max f-value of G must be in \"sink SCC\"!"
   ]
  }
 ],
 "metadata": {
  "kernelspec": {
   "display_name": "Python 3",
   "language": "python",
   "name": "python3"
  },
  "language_info": {
   "codemirror_mode": {
    "name": "ipython",
    "version": 3
   },
   "file_extension": ".py",
   "mimetype": "text/x-python",
   "name": "python",
   "nbconvert_exporter": "python",
   "pygments_lexer": "ipython3",
   "version": "3.6.2"
  }
 },
 "nbformat": 4,
 "nbformat_minor": 2
}
