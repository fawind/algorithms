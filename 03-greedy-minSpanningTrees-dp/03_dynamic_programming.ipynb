{
 "cells": [
  {
   "cell_type": "markdown",
   "metadata": {},
   "source": [
    "# Dynamic Programming\n",
    "\n",
    "## Principles of DP\n",
    "\n",
    "1. Identify a small number of subproblems.\n",
    "2. Can quickly and correctly solve larger subproblems given the solutions to smaller subproblems.\n",
    "3. After solving all subproblems, can quickly compute final solution."
   ]
  },
  {
   "cell_type": "markdown",
   "metadata": {},
   "source": [
    "## Weighted Independent Sets in Path Graphs\n",
    "\n",
    "**Input:** Path graph $G = (V, E)$ with nonnegative weights.  \n",
    "**Output:** Subset of nonadjacent vertices (independent set IS) of maximum weights.\n",
    "\n",
    "```\n",
    "1 -> 4 -> 5 -> 4\n",
    "max-weight IS: [4, 4]\n",
    "```\n",
    "\n",
    "### Approach\n",
    "\n",
    "Let $S \\subseteq V$ be a max-weight independent set IS.  \n",
    "Let $v_n$ be the last vertex of the path.\n",
    "\n",
    "**Case 1:** $v_n \\notin S$\n",
    "* Let $G' = G - \\{v_n\\}$\n",
    "* $S$ is also max-weight IS in $G'$\n",
    "\n",
    "**Case 2** $v_n \\in S$:\n",
    "* $v_{n-1} \\notin S$ (by definition of IS)\n",
    "* Let $G'' = G - \\{v_{n-1}, v_n\\}$\n",
    "* $S - \\{v_n\\}$ is max-weight IS of $G''$\n",
    "\n",
    "**Upshot:** A max-weight IS must be either\n",
    "1. a max-weight IS of $G'$ or\n",
    "2. $v_n$ + a max-weight IS of $G''$.\n",
    "\n",
    "**Corollary:** If we knew weather or not $v_n$ was in the max-weight IS, recursively compute max-weight IS of $G'$ or $G''$.\n",
    "\n",
    "**Idea:** Try both possibilities and return the better solution.  \n",
    "**Problem:** Takes exponential time because it has a branching factor of 2.  \n",
    "**However:** We only have $O(1)$ distinct subproblems.\n",
    "**Solution:** Cache solutions for subproblems for a later $O(1)$ lookup (memoization). Reformulate algorithm as bottom-up iterative approach.\n",
    "\n",
    "### Algorithm\n",
    "\n",
    "Let $G_i$ be the 1st $i$ vertices of $G$.\n",
    "\n",
    "**Plan:** Populate array $A$ keft to right with $A[i]$ = value of max-weight IS of $G_i$.\n",
    "\n",
    "1. Init $A[0] = 0, A[1] = w_1$\n",
    "2. For $i = 2, ..., n$: $A[i] = max(A[i - 1], A[i - 2] + w_i)$\n",
    "\n",
    "=> Runs in $O(n)$ time\n",
    "\n",
    "### Reconstructing the Paths\n",
    "\n",
    "Algorithm returns max weight of max-weight IS. To get the path of the max-weight IS, we can trace back through the filled out array and reconstruct the optimal solution.\n",
    "\n",
    "**Key Point:** $v_i$ belongs to max-weight IS of $G_i$ $\\Leftrightarrow$ $w_i$ + max-weight IS of $G_{i-2}$ $\\leq$ max-weight IS of $G_{i-1}$\n",
    "\n",
    "1. Let $A$ be the filled in array, init empty list $S$\n",
    "2. While $i \\geq 1$ (scan right to left):\n",
    "    * if $A[i-1] \\geq A[i-2] + w_i$:\n",
    "        * $i = i - 1$\n",
    "    * else:\n",
    "        * Add $v_i$ to $S$; $i = i - 2$\n",
    "3. Return $S$."
   ]
  },
  {
   "cell_type": "code",
   "execution_count": 1,
   "metadata": {},
   "outputs": [
    {
     "name": "stdout",
     "output_type": "stream",
     "text": [
      "Max weight: 8, Max-weight IS: [1, 3], Solutions: [0, 4, 5, 8]\n"
     ]
    }
   ],
   "source": [
    "def get_max_path_weight(path):\n",
    "    if not path:\n",
    "        return 0\n",
    "    solutions = [0, path[1]]\n",
    "    for i in range(2, len(path)):\n",
    "        solutions.append(max(solutions[i - 1], solutions[i - 2] + path[i]))\n",
    "    max_weight = solutions[-1]\n",
    "    return max_weight, solutions\n",
    "\n",
    "def reconstruct_path(path, solutions):\n",
    "    max_is = []\n",
    "    i = len(solutions) - 1\n",
    "    while i >= 1:\n",
    "        if solutions[i - 1] >= solutions[i - 2] + path[i]:\n",
    "            i -= 1\n",
    "        else:\n",
    "            max_is.append(i)\n",
    "            i -= 2\n",
    "    return max_is[::-1]\n",
    "\n",
    "path = [1, 4, 5, 4]\n",
    "max_weight, solutions = get_max_path_weight(path)\n",
    "max_is = reconstruct_path(path, solutions)\n",
    "print('Max weight: {}, Max-weight IS: {}, Solutions: {}'.format(max_weight, max_is, solutions))"
   ]
  }
 ],
 "metadata": {
  "kernelspec": {
   "display_name": "Python 3",
   "language": "python",
   "name": "python3"
  },
  "language_info": {
   "codemirror_mode": {
    "name": "ipython",
    "version": 3
   },
   "file_extension": ".py",
   "mimetype": "text/x-python",
   "name": "python",
   "nbconvert_exporter": "python",
   "pygments_lexer": "ipython3",
   "version": "3.5.3"
  }
 },
 "nbformat": 4,
 "nbformat_minor": 2
}
