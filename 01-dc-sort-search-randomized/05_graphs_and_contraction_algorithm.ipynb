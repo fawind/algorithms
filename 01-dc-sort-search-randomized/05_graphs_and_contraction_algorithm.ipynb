{
 "cells": [
  {
   "cell_type": "markdown",
   "metadata": {},
   "source": [
    "# Graphs and the Contraction Algorithm"
   ]
  },
  {
   "cell_type": "markdown",
   "metadata": {},
   "source": [
    "## Random Contraction Algorithm\n",
    "\n",
    "```\n",
    "while there are more than 2 vertices:\n",
    "    - pick remaining edge (u, v) at random\n",
    "    - merge ('contract') u and v into a single vertex\n",
    "    - return self loops\n",
    "return cut represented by final 2 vertices\n",
    "```"
   ]
  },
  {
   "cell_type": "code",
   "execution_count": 1,
   "metadata": {},
   "outputs": [
    {
     "data": {
      "text/plain": [
       "2"
      ]
     },
     "execution_count": 1,
     "metadata": {},
     "output_type": "execute_result"
    }
   ],
   "source": [
    "import random\n",
    "import copy\n",
    "\n",
    "def random_contraction(graph):\n",
    "    while len(graph) > 2:\n",
    "        u = random.choice(list(graph.keys()))\n",
    "        v = random.choice(graph[u])\n",
    "        \n",
    "        for node in graph[v]:\n",
    "            if node != u:\n",
    "                graph[u].append(node)\n",
    "                graph[node].append(u)\n",
    "            graph[node].remove(v)\n",
    "        del graph[v]\n",
    "        \n",
    "    return len(graph[list(graph.keys())[0]])\n",
    "\n",
    "\n",
    "graph = {'A': ['B', 'C'], 'B': ['A', 'C', 'D'],\n",
    "         'C': ['A', 'B', 'D'], 'D': ['B', 'C']}\n",
    "min([random_contraction(copy.deepcopy(graph)) for _ in range(10)])"
   ]
  }
 ],
 "metadata": {
  "kernelspec": {
   "display_name": "Python 3",
   "language": "python",
   "name": "python3"
  },
  "language_info": {
   "codemirror_mode": {
    "name": "ipython",
    "version": 3
   },
   "file_extension": ".py",
   "mimetype": "text/x-python",
   "name": "python",
   "nbconvert_exporter": "python",
   "pygments_lexer": "ipython3",
   "version": "3.6.1"
  }
 },
 "nbformat": 4,
 "nbformat_minor": 2
}
