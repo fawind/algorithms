{
 "cells": [
  {
   "cell_type": "markdown",
   "metadata": {},
   "source": [
    "# Quicksort"
   ]
  },
  {
   "cell_type": "code",
   "execution_count": 1,
   "metadata": {},
   "outputs": [
    {
     "data": {
      "text/plain": [
       "[1, 3, 4, 6, 8, 9, 12]"
      ]
     },
     "execution_count": 1,
     "metadata": {},
     "output_type": "execute_result"
    }
   ],
   "source": [
    "def quicksort(arr, lower, higher):\n",
    "    if lower < higher:\n",
    "        pivot = partition(arr, lower, higher)\n",
    "        quicksort(arr, lower, pivot - 1)\n",
    "        quicksort(arr, pivot + 1, higher)\n",
    "        \n",
    "def partition(arr, lower, higher):\n",
    "    pivot = arr[higher]\n",
    "    i = lower\n",
    "    for j in range(lower, higher):\n",
    "        if (arr[j] <= pivot):\n",
    "            swap(arr, i, j)\n",
    "            i += 1\n",
    "    swap(arr, i, higher)\n",
    "    return i\n",
    "        \n",
    "def swap(arr, i, j):\n",
    "    arr[i], arr[j] = arr[j], arr[i]\n",
    "\n",
    "\n",
    "arr = [1, 3, 6, 8, 9, 12, 4]\n",
    "quicksort(arr, 0, len(arr) - 1)\n",
    "arr"
   ]
  },
  {
   "cell_type": "markdown",
   "metadata": {},
   "source": [
    "---\n",
    "\n",
    "## Proof of average running time\n",
    "\n",
    "**Claim**: Average runtime of Quicksort is $O(n \\log n)$ for every input array A of length n.\n",
    "\n",
    "$\\Omega$: Sample space (all possible outcomes of random choices in QS).\n",
    "\n",
    "for $\\sigma \\in \\Omega: C(\\sigma) = $ # of comparisions between two input elements given random choice $\\sigma$.\n",
    "\n",
    "$z_i$ = $i^{th}$ smallest element of A\n",
    "\n",
    "For $\\sigma \\in \\Omega$, indices $i < j$, let  \n",
    "$\\quad X_{ij}(\\sigma) = $ num of times $z_i$, $z_j$ get compared with pivot sequence $\\sigma$\n",
    "\n",
    "$\\Rightarrow$ A fixed pair of elements will get compared zero or one times (only when one is pivot).  \n",
    "$\\Rightarrow$ Thus: Each $X_{ij}$ is indicator (0 - 1) variable.\n",
    "\n",
    "$\\Rightarrow \\forall \\sigma: C(\\sigma) = \\sum_{i=1}^{n-1} \\sum_{j=i+1}^n X_{ij}(\\sigma)$  \n",
    "$\\Rightarrow E(C) = \\sum_{i=1}^{n-1} \\sum_{j=i+1}^n E(X_{ij}) \\quad$ ($E(X_{ij}$ is prob. that $z_i$, $z_j$ get compared)\n",
    "\n",
    "Fix $z_i$, $z_j$ with $i < j$, consider set $z_i, z_{i+1}, ..., z_j$:\n",
    "\n",
    "=> Pivot is among $z_i ... z_j$, all are passed to same recursive call.\n",
    "\n",
    "1) If $z_i$ or $z_j$ gets chosen as pivot first, they get compared.  \n",
    "2) If one of $z_{i+1}, ... , z_{j-1}$ gets chosen first, they get never compared.\n",
    "\n",
    "$\\Rightarrow Prob(z_i, z_j\\ \\text{compared}) = \\frac{2}{j - i + 1} \\quad$ (#choices for 1 / total # of choices)\n",
    "\n",
    "$\\begin{align*}\n",
    "\\Rightarrow E(C) =& \\sum_{i=1}^{n-1} \\sum_{j=i+1}^n \\frac{2}{j - i + 1} \\\\\n",
    "=& 2 \\sum_{i=1}^{n-1} \\sum_{j=i+1}^n \\frac{1}{j - i + 1}\n",
    "\\end{align*}$\n",
    "\n",
    "**Note:** For each fixed i, the inner sum is:\n",
    "\n",
    "$\\sum_{j = i + 1}^n \\frac{1}{j - i + 1} = \\frac{1}{2} + \\frac{1}{3} + \\frac{1}{4} + ... + \\frac{1}{n}$\n",
    "\n",
    "$\\Rightarrow E(C) \\leq 2 n \\sum_{k = 2}^n \\frac{1}{k}$\n",
    "\n",
    "\n",
    "\n",
    "$\\begin{align*}\n",
    "\\sum_{k = 2}^n \\frac{1}{k} \\leq& \\int_1^n \\frac{1}{x} dx \\\\\n",
    "=& \\ln x \\bigg\\rvert^n_1 \\\\\n",
    "=& \\ln n - \\ln 1 \\\\\n",
    "=& \\ln n\n",
    "\\end{align*}$\n",
    "\n",
    "<br>\n",
    "\n",
    "$\\Rightarrow E(C) \\leq 2n \\ln n$"
   ]
  },
  {
   "cell_type": "markdown",
   "metadata": {},
   "source": [
    "---\n",
    "\n",
    "## $\\Omega(n \\log n)$ lower bound for comparision based sorting\n",
    "\n",
    "**Theorem:** Every comparision based sorting algorithm has worst-case running time of $\\Omega(n log n)$.\n",
    "\n",
    "Given a sorting method and input array of length $n$.\n",
    "\n",
    "$\\rightarrow$ Array of length n: {1, 2, ... , n} in some order. There are $n!$ possible input arrays.  \n",
    "$\\rightarrow$ Suppose algorithm makes $\\leq k$ comparisions to sort all $n!$ inputs.  \n",
    "$\\Rightarrow$ Across all $n!$ possible inputs, algorithm exhibits $\\leq 2^k$ distinct executions.\n",
    "\n",
    "**By Pigeonhole Principle:**\n",
    "\n",
    "If $2^k < n!$, then the algorithm executes identically on two distinct inputs.  \n",
    "$\\Rightarrow$ must get one of them incorrect.\n",
    "\n",
    "**So:** Since method is correct:\n",
    "\n",
    "$2^k \\geq n!$  \n",
    "$2^k \\geq (\\frac{n}{2})^\\frac{n}{2}$  \n",
    "$\\Rightarrow k \\geq \\frac{n}{2} \\log_2 \\frac{n}{2} = \\Omega(n \\log n)$"
   ]
  }
 ],
 "metadata": {
  "kernelspec": {
   "display_name": "Python 3",
   "language": "python",
   "name": "python3"
  },
  "language_info": {
   "codemirror_mode": {
    "name": "ipython",
    "version": 3
   },
   "file_extension": ".py",
   "mimetype": "text/x-python",
   "name": "python",
   "nbconvert_exporter": "python",
   "pygments_lexer": "ipython3",
   "version": "3.5.3"
  }
 },
 "nbformat": 4,
 "nbformat_minor": 2
}
