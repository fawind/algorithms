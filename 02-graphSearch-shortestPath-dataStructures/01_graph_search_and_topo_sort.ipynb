{
 "cells": [
  {
   "cell_type": "markdown",
   "metadata": {},
   "source": [
    "# Graph Search and Topological Sort"
   ]
  },
  {
   "cell_type": "code",
   "execution_count": 5,
   "metadata": {
    "collapsed": true
   },
   "outputs": [],
   "source": [
    "class Vertex:    \n",
    "    def __init__(self, value, children=[]):\n",
    "        self.value = value\n",
    "        self.children = set(children)\n",
    "        \n",
    "t = Vertex('t', [])\n",
    "v = Vertex('v', [t])\n",
    "w = Vertex('w', [t])\n",
    "s = Vertex('s', [v, w])\n",
    "graph = [s, w, v, t]"
   ]
  },
  {
   "cell_type": "markdown",
   "metadata": {},
   "source": [
    "## BFS and DFS"
   ]
  },
  {
   "cell_type": "code",
   "execution_count": 2,
   "metadata": {
    "collapsed": false
   },
   "outputs": [
    {
     "name": "stdout",
     "output_type": "stream",
     "text": [
      "Visit: s\n",
      "Visit: v\n",
      "Visit: w\n",
      "Visit: t\n"
     ]
    }
   ],
   "source": [
    "def bfs(start):\n",
    "    visited = set()\n",
    "    queue = [start]\n",
    "    while queue:\n",
    "        vertex = queue.pop(0)\n",
    "        if vertex.value not in visited:\n",
    "            print('Visit: {}'.format(vertex.value))\n",
    "            visited.add(vertex.value)\n",
    "            queue.extend(vertex.children - visited)\n",
    "\n",
    "bfs(graph[0])"
   ]
  },
  {
   "cell_type": "code",
   "execution_count": 3,
   "metadata": {
    "collapsed": false
   },
   "outputs": [
    {
     "name": "stdout",
     "output_type": "stream",
     "text": [
      "Visit: s\n",
      "Visit: w\n",
      "Visit: t\n",
      "Visit: v\n"
     ]
    }
   ],
   "source": [
    "def dfs(start):\n",
    "    visited = set()\n",
    "    stack = [start]\n",
    "    while stack:\n",
    "        vertex = stack.pop()\n",
    "        if vertex.value not in visited:\n",
    "            print('Visit: {}'.format(vertex.value))\n",
    "            visited.add(vertex.value)\n",
    "            stack.extend(vertex.children - visited)\n",
    "\n",
    "dfs(graph[0])"
   ]
  },
  {
   "cell_type": "markdown",
   "metadata": {},
   "source": [
    "## Topological Sort\n",
    "\n",
    "**Goal:** Labeling $f$ of $G$'s nodes such that:\n",
    "1. The $f(v)$'s are the set ${1, 2, ..., n}$\n",
    "2. $(u, v) \\in G \\Rightarrow f(u) < f(v)$\n",
    "\n",
    "**Motivation:** Create sequence of tasks while respecting dependencies.\n",
    "\n",
    "**Note:** No directed cycle => can compute topological ordering in $O(m + n)$\n",
    "\n",
    "### 1) Straighforward Algorithm\n",
    "\n",
    "**Note:** Every directed acyclic graph has a sink vertex\n",
    "\n",
    "```\n",
    "1) Let v be a sink vertex of G\n",
    "2) Set f(v) = n\n",
    "3) Recurse on G - {v}\n",
    "```\n",
    "\n",
    "### 2) TopoSort using DFS"
   ]
  },
  {
   "cell_type": "code",
   "execution_count": 4,
   "metadata": {
    "collapsed": false
   },
   "outputs": [
    {
     "data": {
      "text/plain": [
       "['s', 'w', 'v', 't']"
      ]
     },
     "execution_count": 4,
     "metadata": {},
     "output_type": "execute_result"
    }
   ],
   "source": [
    "def dfsTopo(vertex, visited, stack):\n",
    "    visited.add(vertex.value)\n",
    "    for c in vertex.children:\n",
    "        if c.value not in visited:\n",
    "            dfsTopo(c, visited, stack)\n",
    "    stack.insert(0, vertex.value)\n",
    "\n",
    "def toposort(graph):\n",
    "    visited = set()\n",
    "    stack = []\n",
    "    for v in graph:\n",
    "        if v.value not in visited:\n",
    "            dfsTopo(v, visited, stack)\n",
    "    return stack\n",
    "\n",
    "toposort(graph)"
   ]
  }
 ],
 "metadata": {
  "kernelspec": {
   "display_name": "Python 3",
   "language": "python",
   "name": "python3"
  },
  "language_info": {
   "codemirror_mode": {
    "name": "ipython",
    "version": 3
   },
   "file_extension": ".py",
   "mimetype": "text/x-python",
   "name": "python",
   "nbconvert_exporter": "python",
   "pygments_lexer": "ipython3",
   "version": "3.6.2"
  }
 },
 "nbformat": 4,
 "nbformat_minor": 2
}
