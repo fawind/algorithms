{
 "cells": [
  {
   "cell_type": "markdown",
   "metadata": {},
   "source": [
    "# $O$-notation\n",
    "\n",
    "* Big O: **Asymptotyc upper bound** of a given function $g(n)$\n",
    "\n",
    "$$\n",
    "O(g(n)) = \\{f(n) : \\text{there exist positive constants $c$ and $n_0$ such that }\\\\ 0 \\leq f(n) \\leq c g(n) \\text{ for all } n \\geq n_0\\}\n",
    "$$"
   ]
  },
  {
   "cell_type": "markdown",
   "metadata": {},
   "source": [
    "# $\\Omega$-notation\n",
    "\n",
    "* Big Omega: **Asymptotyc lower bound** of a given function $g(n)$\n",
    "\n",
    "$$\n",
    "\\Omega(g(n)) = \\{f(n) : \\text{there exist positive constants $c$ and $n_0$ such that }\\\\ 0 \\leq c g(n) \\leq f(n) \\text{ for all } n \\geq n_0\\}\n",
    "$$"
   ]
  },
  {
   "cell_type": "markdown",
   "metadata": {},
   "source": [
    "# $\\Theta$-notation\n",
    "\n",
    "* Big Theta: $g(n)$ is **asymptotically tight bound** for $f(n)$\n",
    "* $f$ is \"sandwiched\" between $c_1 g(n)$ and $c_2 g(n)$\n",
    "* $f(n) = \\Theta(n) \\iff f(n) = O(g(n)) \\land f(n) = \\Omega(g(n))$\n",
    "\n",
    "$$\n",
    "\\theta(g(n)) = \\{f(n) : \\text{there exist positive constants $c_1$, $c_2$, and $n_0$ such that }\\\\ 0 \\leq c_1 g(n) \\leq f(n) \\leq c_2 g(n) \\text{ for all } n \\geq n_0\\}\n",
    "$$"
   ]
  },
  {
   "cell_type": "markdown",
   "metadata": {},
   "source": [
    "<img alt=\"O-notation graphs\" src=\"https://cloud.githubusercontent.com/assets/7422050/26027440/f9d06068-3805-11e7-8fcd-da8b57c802df.png\">\n"
   ]
  },
  {
   "cell_type": "markdown",
   "metadata": {},
   "source": [
    "# Analogy to real numbers\n",
    "\n",
    "\n",
    "$ f(n) = O(g(n)) \\text{ is like } a \\leq b $\n",
    "\n",
    "$ f(n) = \\Omega(g(n)) \\text{ is like } a \\geq b $\n",
    "\n",
    "$ f(n) = \\Theta(g(n)) \\text{ is like } a = b $\n",
    "\n",
    "$ f(n) = o(g(n)) \\text{ is like } a > b $\n",
    "\n",
    "$ f(n) = \\omega(g(n)) \\text{ is like } a < b $"
   ]
  },
  {
   "cell_type": "markdown",
   "metadata": {},
   "source": [
    "# Time Complexity"
   ]
  },
  {
   "cell_type": "code",
   "execution_count": 14,
   "metadata": {},
   "outputs": [
    {
     "data": {
      "image/png": "[encoded data removed]",
      "text/plain": [
       "<matplotlib.figure.Figure at 0x10939b0b8>"
      ]
     },
     "metadata": {},
     "output_type": "display_data"
    }
   ],
   "source": [
    "%matplotlib inline\n",
    "import math\n",
    "import numpy as np\n",
    "import matplotlib.pyplot as plt\n",
    "\n",
    "x = np.linspace(1, 7, 100)\n",
    "x_int = np.arange(1, 7)\n",
    "factorial = np.vectorize(math.factorial)\n",
    "plt.plot(x, x, label='n')\n",
    "plt.plot(x, x ** 2, label='n^2')\n",
    "plt.plot(x, 2 ** x, label='2^n')\n",
    "plt.plot(x, np.log(x), label='log(n)')\n",
    "plt.plot(x_int, factorial(x_int), label='n!')\n",
    "plt.gca().set_ylim([0, 100])\n",
    "plt.legend()\n",
    "plt.show()"
   ]
  }
 ],
 "metadata": {
  "kernelspec": {
   "display_name": "Python 3",
   "language": "python",
   "name": "python3"
  },
  "language_info": {
   "codemirror_mode": {
    "name": "ipython",
    "version": 3
   },
   "file_extension": ".py",
   "mimetype": "text/x-python",
   "name": "python",
   "nbconvert_exporter": "python",
   "pygments_lexer": "ipython3",
   "version": "3.6.1"
  }
 },
 "nbformat": 4,
 "nbformat_minor": 2
}
