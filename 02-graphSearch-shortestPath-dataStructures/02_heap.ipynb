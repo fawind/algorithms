{
 "cells": [
  {
   "cell_type": "markdown",
   "metadata": {},
   "source": [
    "# Heap\n",
    "\n",
    "* **Insert:** $O(log n)$\n",
    "* **Extract Min:** $O(log n)$\n",
    "* **Heapify:** n batched insert, $O(n)$\n",
    "* **Delete:** $O(log n)$\n",
    "\n",
    "## Implementation\n",
    "\n",
    "**Conceptually:** Rooted binary tree whith heap property: At every node $x$, $key(x) \\leq$ all keys of x's children.\n",
    "\n",
    "**Array Implementation:** Layer by layer.\n",
    "\n",
    "* $parent(i) = floor(\\frac{i}{2})$\n",
    "* $children(i) = [2i, 2i + 1]$"
   ]
  },
  {
   "cell_type": "code",
   "execution_count": 1,
   "metadata": {
    "collapsed": false
   },
   "outputs": [],
   "source": [
    "class MinHeap:\n",
    "    \n",
    "    @staticmethod\n",
    "    def heapify(elements):\n",
    "        heap = MinHeap()\n",
    "        index = len(elements) // 2\n",
    "        heap._heap = [None] + elements\n",
    "        while index > 0:\n",
    "            heap._bubble_down(index)\n",
    "            index -= 1\n",
    "        return heap\n",
    "    \n",
    "    def __init__(self):\n",
    "        # Initialize with empty placeholder to start indexing from 1\n",
    "        self._heap = [None]\n",
    "    \n",
    "    def _get_parent(self, index):\n",
    "        parent = index // 2\n",
    "        return parent if parent else None\n",
    "    \n",
    "    def _get_left_child(self, index):\n",
    "        child = 2 * index\n",
    "        return child if child < len(self._heap) else None\n",
    "    \n",
    "    def _get_right_child(self, index):\n",
    "        child = 2 * index + 1\n",
    "        return child if child < len(self._heap) else None\n",
    "    \n",
    "    def insert(self, key):\n",
    "        self._heap.append(key)\n",
    "        inserted = len(self._heap) - 1\n",
    "        self._bubble_up(inserted)\n",
    "    \n",
    "    def _bubble_up(self, current):\n",
    "        parent = self._get_parent(current)\n",
    "        if not parent or self._heap[parent] <= self._heap[current]:\n",
    "            return\n",
    "        self._heap[parent], self._heap[current] = self._heap[current], self._heap[parent]\n",
    "        self._bubble_up(parent)\n",
    "        \n",
    "    def pop_min(self):\n",
    "        if len(self._heap) == 1:\n",
    "            return None\n",
    "        if len(self._heap) == 2:\n",
    "            return self._heap.pop()\n",
    "        min_key = self._heap[1]\n",
    "        self._heap[1] = self._heap.pop()\n",
    "        self._bubble_down(1)\n",
    "        return min_key\n",
    "        \n",
    "    def _bubble_down(self, current):\n",
    "        child = self._get_min_child(current)\n",
    "        if not child or self._heap[child] >= self._heap[current]:\n",
    "            return\n",
    "        self._heap[child], self._heap[current] = self._heap[current], self._heap[child]\n",
    "        self._bubble_down(child)\n",
    "        \n",
    "    def _get_min_child(self, current):\n",
    "        left_child = self._get_left_child(current)\n",
    "        right_child = self._get_right_child(current)\n",
    "        left_value = self._heap[left_child] if left_child else None\n",
    "        right_value = self._heap[right_child] if right_child else None\n",
    "        if not left_value and not right_value:\n",
    "            return None\n",
    "        min_value = min([x for x in [left_value, right_value] if x])\n",
    "        if min_value == left_value:\n",
    "            return left_child\n",
    "        return right_child"
   ]
  },
  {
   "cell_type": "code",
   "execution_count": 2,
   "metadata": {
    "collapsed": false
   },
   "outputs": [
    {
     "name": "stdout",
     "output_type": "stream",
     "text": [
      "[None, 2, 3, 4, 5, 4]\n",
      "Add: 8\n",
      "[None, 2, 3, 4, 5, 4, 8]\n",
      "Add: 1\n",
      "[None, 1, 3, 2, 5, 4, 8, 4]\n",
      "Pop: 1\n",
      "[None, 2, 3, 4, 5, 4, 8]\n",
      "Pop: 2\n",
      "[None, 3, 4, 4, 5, 8]\n",
      "Add: 5\n",
      "[None, 3, 4, 4, 5, 8, 5]\n"
     ]
    }
   ],
   "source": [
    "heap = MinHeap.heapify([4, 4, 2, 5, 3])\n",
    "print(heap._heap)\n",
    "print('Add: 8')\n",
    "heap.insert(8)\n",
    "print(heap._heap)\n",
    "print('Add: 1')\n",
    "heap.insert(1)\n",
    "print(heap._heap)\n",
    "print('Pop: {}'.format(heap.pop_min()))\n",
    "print(heap._heap)\n",
    "print('Pop: {}'.format(heap.pop_min()))\n",
    "print(heap._heap)\n",
    "print('Add: 5')\n",
    "heap.insert(5)\n",
    "print(heap._heap)"
   ]
  }
 ],
 "metadata": {
  "kernelspec": {
   "display_name": "Python 3",
   "language": "python",
   "name": "python3"
  },
  "language_info": {
   "codemirror_mode": {
    "name": "ipython",
    "version": 3
   },
   "file_extension": ".py",
   "mimetype": "text/x-python",
   "name": "python",
   "nbconvert_exporter": "python",
   "pygments_lexer": "ipython3",
   "version": "3.6.2"
  }
 },
 "nbformat": 4,
 "nbformat_minor": 2
}
