{
 "cells": [
  {
   "cell_type": "markdown",
   "metadata": {},
   "source": [
    "# Minimal Cuts and the Contraction Algorithm"
   ]
  },
  {
   "cell_type": "markdown",
   "metadata": {},
   "source": [
    "## Random Contraction Algorithm\n",
    "\n",
    "```\n",
    "while there are more than 2 vertices:\n",
    "    - pick remaining edge (u, v) at random\n",
    "    - merge ('contract') u and v into a single vertex\n",
    "    - return self loops\n",
    "return cut represented by final 2 vertices\n",
    "```\n",
    "\n",
    "**Running time:** $\\Omega(n^2 m)$"
   ]
  },
  {
   "cell_type": "code",
   "execution_count": 1,
   "metadata": {},
   "outputs": [
    {
     "data": {
      "text/plain": [
       "2"
      ]
     },
     "execution_count": 1,
     "metadata": {},
     "output_type": "execute_result"
    }
   ],
   "source": [
    "import random\n",
    "import copy\n",
    "\n",
    "def random_contraction(graph):\n",
    "    while len(graph) > 2:\n",
    "        u = random.choice(list(graph.keys()))\n",
    "        v = random.choice(graph[u])\n",
    "        \n",
    "        for node in graph[v]:\n",
    "            if node != u:\n",
    "                graph[u].append(node)\n",
    "                graph[node].append(u)\n",
    "            graph[node].remove(v)\n",
    "        del graph[v]\n",
    "        \n",
    "    return len(graph[list(graph.keys())[0]])\n",
    "\n",
    "\n",
    "graph = {'A': ['B', 'C'], 'B': ['A', 'C', 'D'],\n",
    "         'C': ['A', 'B', 'D'], 'D': ['B', 'C']}\n",
    "min([random_contraction(copy.deepcopy(graph)) for _ in range(10)])"
   ]
  },
  {
   "cell_type": "markdown",
   "metadata": {},
   "source": [
    "## Probability of Finding Min Cut\n",
    "\n",
    "Let Graph $G = (V, E)$ with $n$ vertices and $m$ edges and min cut $(A, B)$  \n",
    "Let $k$ be number of edges $F$ which crossing $(A, B)$\n",
    "\n",
    "1. Suppose edge of F is contracted -> Algorithm will not output $(A, B)$.\n",
    "2. Suppose only edges inside $A$ or inside $B$ get contracted -> Algorithm will output $(A, B)$.\n",
    "\n",
    "**Thus:** $Pr(\\text{output is } (A, B)) = Pr(\\text{never contract edge of F})$\n",
    "\n",
    "Let $S_i$ = event that edge of $F$ gets contracted in iteration $i$.  \n",
    "\n",
    "$Pr(\\text{is min cut}) = Pr(\\neg S_1 \\cap \\neg S_2 \\cap ... \\cap \\neg S_{n - 2})$\n",
    "\n",
    "### 1) First Iteration\n",
    "\n",
    "$Pr(S_1) = \\frac{k}{m}$\n",
    "\n",
    "**Observation:** Degree of each vertex is at least $k$ since $\\sum_v deg(v) = 2m$. With $m \\geq \\frac{k n}{2} \\Rightarrow \\sum_v dev(v) \\geq kn$.\n",
    "\n",
    "Since $Pr(S_1) = \\frac{k}{m} \\Rightarrow Pr(S_1) \\leq \\frac{2}{n}$.\n",
    "\n",
    "### 2) Second Iteration\n",
    "\n",
    "**Recall:** $Pr(\\neg S_1 \\cap \\neg S_2) = Pr(\\neg S_1 \\mid \\neg S_2) * Pr(\\neg S_1)$\n",
    "\n",
    "**Note:** All nodes in contracted graph define cuts in G (with at least $k$ crossing edges).  \n",
    "=> All edges in contracted graph are at least $k$.\n",
    "\n",
    "**So:** #remaining edges $\\geq \\frac{1}{2} k (n - 1)$\n",
    "\n",
    "$\\Rightarrow Pr(\\neg S_2 \\mid \\neg S_1) \\geq 1 - \\frac{2}{n - 1}$\n",
    "\n",
    "### 3) All Iterations\n",
    "\n",
    "$Pr(\\neg S_1 \\cap \\neq S_2 \\cap ... \\cap \\neg S_{n - 2})$  \n",
    "$= Pr(\\neg S_1) Pr(\\neg S_2 \\mid \\neg S_1) Pr(\\neg S_3 \\mid \\neg S_1 \\cap \\neg S_2) ...$  \n",
    "$\\geq (1 - \\frac{2}{n}) (1 - \\frac{2}{n - 1})(1 - \\frac{2}{n - 2}) ... (1 - \\frac{2}{n - (n - 4)}) (1 - \\frac{2}{n (n - 3)})$  \n",
    "$= \\frac{n - 2}{n} * \\frac{n - 3}{n - 1} * \\frac{n - 4}{n - 2} * ... * \\frac{2}{4} \\frac{1}{3}$  \n",
    "$= \\frac{2}{n (n - 1)} \\geq \\frac{1}{n^2}$\n",
    "\n",
    "$\\Rightarrow$ **Prob to find min cut is approx. $\\frac{1}{n^2}$**\n",
    "\n",
    "### 4) Repeated Trials\n",
    "\n",
    "Run algorithm $N$ times, remember minimum number of cuts.\n",
    "\n",
    "Let $T_i$ be event that $(A, B)$ is found on $i^{th}$ try ($T_i$'s are independent).\n",
    "\n",
    "**So:** $Pr(\\neg T_1 \\cap \\neg T_2 \\cap ... \\cap \\neg T_n) = \\prod_{i = 1}^N Pr(\\neg T_i) \\leq (1 - \\frac{1}{n^2})^N$\n",
    "\n",
    "*Note:* For all real numbers $x$: $1 + x \\leq e^x$.\n",
    "\n",
    "**So:** If $N = N^2 \\Rightarrow Pr(\\text{all fail}) \\leq (e^{-\\frac{1}{n^2}})^{n^2} = \\frac{1}{e}$\n",
    "\n",
    "If we take $N = n^2 \\ln n \\Rightarrow Pr(\\text{all fail}) \\leq (\\frac{1}{e})^{\\ln n} = \\frac{1}{n}$"
   ]
  },
  {
   "cell_type": "markdown",
   "metadata": {},
   "source": [
    "---\n",
    "\n",
    "## Maximum Number of Min Cuts\n",
    "\n",
    "The largest number of min cuts a graph with $n$ vertices can have is: ${{n}\\choose{2}} = \\frac{n (n - 1)}{2}$.\n",
    "\n",
    "**Lower bound:**\n",
    "\n",
    "Consider n-cycle. Each pair of the n edges defines a distinct min cut.\n",
    "\n",
    "=> has $\\geq {{n}\\choose{2}}$ min cuts.\n",
    "\n",
    "**Upper bound:**\n",
    "\n",
    "Let $(A_1, B_1), ..., (A_t, B_t)$ be min cuts of a graph with $n$ vertices.\n",
    "\n",
    "By analysis of contraction algorithm: $Pr(\\text{output = AiBi}) \\geq \\frac{2}{n (n - 1)} = \\frac{1}{{n}\\choose{2}}$ for all $i = 1, 2, ..., t$.\n",
    "\n",
    "Since $S_i$'s are disjoint events, their probablilty sums up to 1.\n",
    "\n",
    "*Thus:* $\\frac{t}{{n}\\choose{2}} \\leq 1 \\Rightarrow t \\leq {{n}\\choose{2}}$"
   ]
  }
 ],
 "metadata": {
  "kernelspec": {
   "display_name": "Python 3",
   "language": "python",
   "name": "python3"
  },
  "language_info": {
   "codemirror_mode": {
    "name": "ipython",
    "version": 3
   },
   "file_extension": ".py",
   "mimetype": "text/x-python",
   "name": "python",
   "nbconvert_exporter": "python",
   "pygments_lexer": "ipython3",
   "version": "3.6.1"
  }
 },
 "nbformat": 4,
 "nbformat_minor": 2
}
