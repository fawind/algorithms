{
 "cells": [
  {
   "cell_type": "markdown",
   "metadata": {},
   "source": [
    "# Linear Time Selection"
   ]
  },
  {
   "cell_type": "code",
   "execution_count": 1,
   "metadata": {
    "collapsed": true
   },
   "outputs": [],
   "source": [
    "import random\n",
    "\n",
    "def partition(arr, pivot_index, lower, higher):\n",
    "    swap(arr, pivot_index, higher)\n",
    "    pivot = arr[higher]\n",
    "    i = lower\n",
    "    for j in range(lower, higher):\n",
    "        if (arr[j] <= pivot):\n",
    "            swap(arr, i, j)\n",
    "            i += 1\n",
    "    swap(arr, i, higher)\n",
    "    return i\n",
    "\n",
    "def swap(arr, i, j):\n",
    "    arr[i], arr[j] = arr[j], arr[i]"
   ]
  },
  {
   "cell_type": "markdown",
   "metadata": {},
   "source": [
    "## 1. Random Select\n",
    "\n",
    "Worst case: $O(n^2)$  \n",
    "AVG case: $O(n)$"
   ]
  },
  {
   "cell_type": "code",
   "execution_count": 2,
   "metadata": {},
   "outputs": [
    {
     "data": {
      "text/plain": [
       "2"
      ]
     },
     "execution_count": 2,
     "metadata": {},
     "output_type": "execute_result"
    }
   ],
   "source": [
    "def rselect(arr, index, lower, higher):\n",
    "    pivot_index = random.randint(lower, higher)\n",
    "    pivot = partition(arr, pivot_index, lower, higher)\n",
    "    if pivot == index:\n",
    "        return arr[pivot]\n",
    "    if pivot > index:\n",
    "        return rselect(arr, index, lower, pivot - 1)\n",
    "    return rselect(arr, index, pivot + 1, higher)\n",
    "    \n",
    "arr1 = [1, 6, 3, 9, 12, 8, 4, 2]\n",
    "rselect(arr1, 1, 0, len(arr1) - 1)"
   ]
  },
  {
   "cell_type": "markdown",
   "metadata": {},
   "source": [
    "## 2. Deterministic Select\n",
    "\n",
    "\"median of medians\"\n",
    "\n",
    "Worst case: $O(n)$  \n",
    "But: Worse constant work and not in-place\n",
    "\n",
    "```\n",
    "DSelect(array A, length n, order statistic i)\n",
    "  1. Break A into groups of 5, sort each group\n",
    "  2. C = n/5 \"middle elements\"\n",
    "  3. p = DSelect(C, n/5, n/10) [recursively compute median of C]\n",
    "  4. Partition A around p with pivot point j\n",
    "  5. If j = i return p\n",
    "  6. If j < i return DSelect(1st part of A, ...)\n",
    "  7. If j > i return DSelect(2nd part of A, ...)\n",
    "```"
   ]
  },
  {
   "cell_type": "code",
   "execution_count": 3,
   "metadata": {},
   "outputs": [
    {
     "data": {
      "text/plain": [
       "2"
      ]
     },
     "execution_count": 3,
     "metadata": {},
     "output_type": "execute_result"
    }
   ],
   "source": [
    "def dselect(arr, index, lower, higher):\n",
    "    if lower == higher:\n",
    "        return arr[lower]\n",
    "    \n",
    "    groups = [arr[i:min(i + 5, higher + 1)] for i in range(lower, higher + 1, 5)]\n",
    "    medians = [sorted(g)[(len(g) - 1) // 2] for g in groups]\n",
    "    if len(medians) <= 2:\n",
    "        median_of_medians = medians[0]\n",
    "    else:\n",
    "        median_of_medians = dselect(\n",
    "            medians, (len(medians) - 1) // 2, 0, len(medians) - 1)\n",
    "        \n",
    "    pivot_index = arr.index(median_of_medians)\n",
    "    pivot = partition(arr, pivot_index, lower, higher)\n",
    "    \n",
    "    if pivot == index:\n",
    "        return arr[pivot]\n",
    "    if pivot > index:\n",
    "        return dselect(arr, index, lower, pivot - 1)\n",
    "    return dselect(arr, index, pivot + 1, higher)\n",
    "\n",
    "arr2 = [1, 6, 3, 9, 12, 8, 4, 2]\n",
    "dselect(arr2, 1, 0, len(arr2) - 1)"
   ]
  }
 ],
 "metadata": {
  "kernelspec": {
   "display_name": "Python 3",
   "language": "python",
   "name": "python3"
  },
  "language_info": {
   "codemirror_mode": {
    "name": "ipython",
    "version": 3
   },
   "file_extension": ".py",
   "mimetype": "text/x-python",
   "name": "python",
   "nbconvert_exporter": "python",
   "pygments_lexer": "ipython3",
   "version": "3.6.1"
  }
 },
 "nbformat": 4,
 "nbformat_minor": 2
}
