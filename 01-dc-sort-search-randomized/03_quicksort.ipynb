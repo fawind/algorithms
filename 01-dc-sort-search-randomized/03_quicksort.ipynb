{
 "cells": [
  {
   "cell_type": "markdown",
   "metadata": {},
   "source": [
    "# Quicksort"
   ]
  },
  {
   "cell_type": "code",
   "execution_count": 1,
   "metadata": {},
   "outputs": [
    {
     "data": {
      "text/plain": [
       "[1, 3, 4, 6, 8, 9, 12]"
      ]
     },
     "execution_count": 1,
     "metadata": {},
     "output_type": "execute_result"
    }
   ],
   "source": [
    "def quicksort(arr, lower, higher):\n",
    "    if lower < higher:\n",
    "        pivot = partition(arr, lower, higher)\n",
    "        quicksort(arr, lower, pivot - 1)\n",
    "        quicksort(arr, pivot + 1, higher)\n",
    "        \n",
    "def partition(arr, lower, higher):\n",
    "    pivot = arr[higher]\n",
    "    i = lower\n",
    "    for j in range(lower, higher):\n",
    "        if (arr[j] <= pivot):\n",
    "            swap(arr, i, j)\n",
    "            i += 1\n",
    "    swap(arr, i, higher)\n",
    "    return i\n",
    "        \n",
    "def swap(arr, i, j):\n",
    "    arr[i], arr[j] = arr[j], arr[i]\n",
    "\n",
    "\n",
    "arr = [1, 3, 6, 8, 9, 12, 4]\n",
    "quicksort(arr, 0, len(arr) - 1)\n",
    "arr"
   ]
  }
 ],
 "metadata": {
  "kernelspec": {
   "display_name": "Python 3",
   "language": "python",
   "name": "python3"
  },
  "language_info": {
   "codemirror_mode": {
    "name": "ipython",
    "version": 3
   },
   "file_extension": ".py",
   "mimetype": "text/x-python",
   "name": "python",
   "nbconvert_exporter": "python",
   "pygments_lexer": "ipython3",
   "version": "3.6.1"
  }
 },
 "nbformat": 4,
 "nbformat_minor": 2
}
