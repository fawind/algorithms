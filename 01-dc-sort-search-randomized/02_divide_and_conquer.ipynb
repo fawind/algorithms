{
 "cells": [
  {
   "cell_type": "markdown",
   "metadata": {},
   "source": [
    "# Divide and Conquer\n",
    "\n",
    "1. Divide into subproblems\n",
    "2. Conquer using recursive calls\n",
    "3. Combine solutions"
   ]
  },
  {
   "cell_type": "markdown",
   "metadata": {},
   "source": [
    "## Mergesort"
   ]
  },
  {
   "cell_type": "code",
   "execution_count": 1,
   "metadata": {},
   "outputs": [
    {
     "data": {
      "text/plain": [
       "[1, 3, 4, 6, 8, 9, 12]"
      ]
     },
     "execution_count": 1,
     "metadata": {},
     "output_type": "execute_result"
    }
   ],
   "source": [
    "def mergesort(arr):\n",
    "    if len(arr) <= 1:\n",
    "        return arr\n",
    "    mid = len(arr) // 2\n",
    "    left = mergesort(arr[:mid])\n",
    "    right = mergesort(arr[mid:])\n",
    "    return merge(left, right)\n",
    "\n",
    "def merge(left, right):\n",
    "    merged = []\n",
    "    left_index, right_index = 0, 0\n",
    "    \n",
    "    while left_index < len(left) and right_index < len(right):\n",
    "        if left[left_index] <= right[right_index]:\n",
    "            merged.append(left[left_index])\n",
    "            left_index += 1\n",
    "        else:\n",
    "            merged.append(right[right_index])\n",
    "            right_index += 1\n",
    "\n",
    "    merged += left[left_index:]\n",
    "    merged += right[right_index:]\n",
    "    return merged\n",
    "\n",
    "mergesort([1, 3, 6, 8, 9, 12, 4])"
   ]
  },
  {
   "cell_type": "markdown",
   "metadata": {},
   "source": [
    "## Count Inversions\n",
    "\n",
    "```\n",
    "Input: [1, 3, 5, 2, 4, 6]\n",
    "Output: 3 => (3, 2) (5, 2), (5, 4)\n",
    "```"
   ]
  },
  {
   "cell_type": "code",
   "execution_count": 2,
   "metadata": {},
   "outputs": [
    {
     "data": {
      "text/plain": [
       "([1, 2, 3, 4, 5, 6], 3)"
      ]
     },
     "execution_count": 2,
     "metadata": {},
     "output_type": "execute_result"
    }
   ],
   "source": [
    "def count_inversions(arr):\n",
    "    if len(arr) <= 1:\n",
    "        return arr, 0\n",
    "    mid = len(arr) // 2\n",
    "    left, left_inversions = count_inversions(arr[:mid])\n",
    "    right, right_inversions = count_inversions(arr[mid:])\n",
    "    merged, split_inversions = merge_and_count(left, right)\n",
    "    return merged, left_inversions + right_inversions + split_inversions\n",
    "\n",
    "def merge_and_count(left, right):\n",
    "    merged = []\n",
    "    split_inversions = 0\n",
    "    left_index, right_index = 0, 0\n",
    "    \n",
    "    while left_index < len(left) and right_index < len(right):\n",
    "        if left[left_index] <= right[right_index]:\n",
    "            merged.append(left[left_index])\n",
    "            left_index += 1\n",
    "        else:\n",
    "            merged.append(right[right_index])\n",
    "            right_index += 1\n",
    "            split_inversions += len(left) - left_index\n",
    "\n",
    "    merged += left[left_index:]\n",
    "    merged += right[right_index:]\n",
    "    return merged, split_inversions\n",
    "\n",
    "count_inversions([1, 3, 5, 2, 4, 6])"
   ]
  },
  {
   "cell_type": "markdown",
   "metadata": {},
   "source": [
    "## Strassen's Subcubic Matrix Multiplication\n",
    "\n",
    "Compute matrix multiplication (here $n \\times n$) using only seven products:\n",
    "\n",
    "$$\n",
    "X = \n",
    "\\begin{bmatrix}\n",
    "    A & B \\\\\n",
    "    C & D\n",
    "\\end{bmatrix} \\quad\n",
    "Y = \n",
    "\\begin{bmatrix}\n",
    "    E & F \\\\\n",
    "    G & H\n",
    "\\end{bmatrix}\n",
    "$$\n",
    "<br>\n",
    "\n",
    "$$\n",
    "P_1 = A(F - H) \\quad\n",
    "P_2 = (A + B)H \\quad\n",
    "P_3 = (C + D)E \\quad\n",
    "P_4 = D(G - E) \\\\\n",
    "P_5 = (A + D)(E + H) \\quad\n",
    "P_6 = (B - D)(G + H) \\quad\n",
    "P_7 = (A - C)(E + F)\n",
    "$$\n",
    "<br>\n",
    "\n",
    "$$\n",
    "X Y =\n",
    "\\begin{bmatrix}\n",
    "    AE + BG & AF + BH \\\\\n",
    "    CE + DG & CF + DH\n",
    "\\end{bmatrix}\n",
    "=\n",
    "\\begin{bmatrix}\n",
    "    P_5 + P_4 - P_2 + P_6 & P_1 + P_2 \\\\\n",
    "    P_3 + P_4 & P_1 + P_5 - P_3 - P_7\n",
    "\\end{bmatrix}\n",
    "$$"
   ]
  }
 ],
 "metadata": {
  "kernelspec": {
   "display_name": "Python 3",
   "language": "python",
   "name": "python3"
  },
  "language_info": {
   "codemirror_mode": {
    "name": "ipython",
    "version": 3
   },
   "file_extension": ".py",
   "mimetype": "text/x-python",
   "name": "python",
   "nbconvert_exporter": "python",
   "pygments_lexer": "ipython3",
   "version": "3.6.1"
  }
 },
 "nbformat": 4,
 "nbformat_minor": 2
}
